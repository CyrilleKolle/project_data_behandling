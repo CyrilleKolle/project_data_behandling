{
 "cells": [
  {
   "cell_type": "markdown",
   "metadata": {},
   "source": [
    "# U3 - Dashboard & Presentation"
   ]
  },
  {
   "cell_type": "markdown",
   "metadata": {},
   "source": [
    "Create a nice dashboard application that summarizes what you investigated in tasks 1 and 2. Then deploy\n",
    "the dash application in [Heroku][l1]\n",
    "\n",
    "[l1]: https://dashboard.heroku.com/"
   ]
  },
  {
   "cell_type": "markdown",
   "metadata": {},
   "source": [
    "## Presentation"
   ]
  },
  {
   "cell_type": "markdown",
   "metadata": {},
   "source": [
    "- What questions did you pick and why?\n",
    "- How have we approached solving answering these questions?\n",
    "- Why did we choose these diagrams and graphs?\n",
    "- Explain the design of the Dashboard\n",
    "\n",
    "*Suggestion is to briefly describe your data analysis, then follow up with the dashboard application.*"
   ]
  }
 ],
 "metadata": {
  "kernelspec": {
   "display_name": "Python 3.9.13 64-bit",
   "language": "python",
   "name": "python3"
  },
  "language_info": {
   "name": "python",
   "version": "3.9.13"
  },
  "orig_nbformat": 4,
  "vscode": {
   "interpreter": {
    "hash": "1e39a7b3c17660d7bd5baf0746a2f9956dbe583f5207e41d5fcb70680f92e7a3"
   }
  }
 },
 "nbformat": 4,
 "nbformat_minor": 2
}
