{
 "cells": [
  {
   "cell_type": "code",
   "execution_count": 9,
   "metadata": {},
   "outputs": [
    {
     "name": "stdout",
     "output_type": "stream",
     "text": [
      "66 Sports included throughout the Olympics: {'Figure Skating', 'Rugby', 'Speed Skating', 'Art Competitions', 'Football', 'Shooting', 'Canoeing', 'Motorboating', 'Ice Hockey', 'Gymnastics', 'Synchronized Swimming', 'Judo', 'Boxing', 'Basque Pelota', 'Cricket', 'Skeleton', 'Jeu De Paume', 'Curling', 'Fencing', 'Nordic Combined', 'Baseball', 'Luge', 'Basketball', 'Softball', 'Rugby Sevens', 'Snowboarding', 'Cross Country Skiing', 'Alpinism', 'Sailing', 'Cycling', 'Handball', 'Hockey', 'Archery', 'Swimming', 'Rhythmic Gymnastics', 'Aeronautics', 'Golf', 'Military Ski Patrol', 'Polo', 'Weightlifting', 'Freestyle Skiing', 'Taekwondo', 'Trampolining', 'Badminton', 'Triathlon', 'Biathlon', 'Roque', 'Diving', 'Wrestling', 'Water Polo', 'Rowing', 'Ski Jumping', 'Table Tennis', 'Tug-Of-War', 'Alpine Skiing', 'Equestrianism', 'Modern Pentathlon', 'Volleyball', 'Tennis', 'Lacrosse', 'Racquets', 'Croquet', 'Short Track Speed Skating', 'Athletics', 'Beach Volleyball', 'Bobsleigh'}\n"
     ]
    }
   ],
   "source": [
    "import pandas as pd\n",
    "import plotly_express as px\n",
    "\n",
    "data = pd.read_csv('./branch_data/athlete_events.csv')\n",
    "sports = {sport for sport in data['Sport']} # A set won't allow duplicates.\n",
    "\n",
    "print(f'{len(sports)} Sports included throughout the Olympics: {sports}')\n"
   ]
  },
  {
   "cell_type": "code",
   "execution_count": 8,
   "metadata": {},
   "outputs": [
    {
     "name": "stdout",
     "output_type": "stream",
     "text": [
      "              ID       Age     Height         Weight\n",
      "Year                                                \n",
      "1896    27017908    5117.0     7946.0    3498.000000\n",
      "1900   123286805   33273.0    20490.0    5890.000000\n",
      "1904    91406086   27419.0    37443.0   10613.000000\n",
      "1906   122516956   26854.0    45799.0   15563.000000\n",
      "1908   205943615   66131.0    84333.0   36411.500000\n",
      "1912   272546992  106960.0   127940.0   43578.000000\n",
      "1920   287525514  100966.0   134802.0   34433.000000\n",
      "1924   384477608  129127.0   170414.0   49458.000000\n",
      "1928   385385446  134238.0   170783.0   50969.000000\n",
      "1932   219543000   97453.0   211329.0   38799.500000\n",
      "1936   508492947  197888.0   209463.0   70576.000000\n",
      "1948   497917274  181454.0   205946.0   82428.000000\n",
      "1952   639103465  237573.0   381016.0  153165.500000\n",
      "1956   442131922  150271.0   467098.0  188641.000000\n",
      "1960   618295543  226872.0  1432571.0  567483.500000\n",
      "1964   647560422  235076.0  1526174.0  611498.500000\n",
      "1968   705723642  251234.0  1796165.0  717544.000000\n",
      "1972   812003728  288373.0  2035083.0  809929.000000\n",
      "1976   711004641  249147.0  1683785.0  671979.666667\n",
      "1980   606262838  207329.0  1465479.0  589855.500000\n",
      "1984   779926015  271772.0  1929194.0  771622.500000\n",
      "1988   992353280  350741.0  2415267.0  969032.166667\n",
      "1992  1121050090  398076.0  2332200.0  943005.000000\n",
      "1994   221835692   77125.0   520780.0  211125.500000\n",
      "1996   944557694  343130.0  2094735.0  847932.333333\n",
      "1998   253771898   90663.0   614701.0  249651.000000\n",
      "2000   952897502  351339.0  2412077.0  973975.333333\n",
      "2002   288308242  106490.0   712786.0  289202.500000\n",
      "2004   929502336  344672.0  2359268.0  955589.000000\n",
      "2006   304663705  113753.0   764151.0  307887.500000\n",
      "2008   938078934  349984.0  2370215.0  959799.000000\n",
      "2010   313330105  114999.0   769640.0  309703.500000\n",
      "2012   879572397  335421.0  2247699.0  895774.000000\n",
      "2014   342616355  127104.0   851532.0  330662.000000\n",
      "2016   932772923  358734.0  2378575.0  955862.000000\n",
      "There have been 196594 male competitors and 74522 female competitors throughout the Olympics.\n"
     ]
    },
    {
     "name": "stderr",
     "output_type": "stream",
     "text": [
      "C:\\Users\\ricka\\AppData\\Local\\Temp\\ipykernel_17964\\3205122747.py:7: FutureWarning: The default value of numeric_only in DataFrameGroupBy.sum is deprecated. In a future version, numeric_only will default to False. Either specify numeric_only or select only columns which should be valid for the function.\n",
      "  summers = data.groupby(['Year']).sum()\n"
     ]
    },
    {
     "ename": "NameError",
     "evalue": "name 'summer_amount' is not defined",
     "output_type": "error",
     "traceback": [
      "\u001b[1;31m---------------------------------------------------------------------------\u001b[0m",
      "\u001b[1;31mNameError\u001b[0m                                 Traceback (most recent call last)",
      "\u001b[1;32mc:\\OD\\OneDrive - onmidroc\\Documents\\Github\\project_data_behandling\\U0_CFI.ipynb Cell 2\u001b[0m in \u001b[0;36m<cell line: 11>\u001b[1;34m()\u001b[0m\n\u001b[0;32m      <a href='vscode-notebook-cell:/c%3A/OD/OneDrive%20-%20onmidroc/Documents/Github/project_data_behandling/U0_CFI.ipynb#W1sZmlsZQ%3D%3D?line=7'>8</a>\u001b[0m \u001b[39mprint\u001b[39m(summers)\n\u001b[0;32m     <a href='vscode-notebook-cell:/c%3A/OD/OneDrive%20-%20onmidroc/Documents/Github/project_data_behandling/U0_CFI.ipynb#W1sZmlsZQ%3D%3D?line=9'>10</a>\u001b[0m \u001b[39mprint\u001b[39m(\u001b[39mf\u001b[39m\u001b[39m'\u001b[39m\u001b[39mThere have been \u001b[39m\u001b[39m{\u001b[39;00mmale_amount\u001b[39m}\u001b[39;00m\u001b[39m male competitors and \u001b[39m\u001b[39m{\u001b[39;00mfemale_amount\u001b[39m}\u001b[39;00m\u001b[39m female competitors throughout the Olympics.\u001b[39m\u001b[39m'\u001b[39m)\n\u001b[1;32m---> <a href='vscode-notebook-cell:/c%3A/OD/OneDrive%20-%20onmidroc/Documents/Github/project_data_behandling/U0_CFI.ipynb#W1sZmlsZQ%3D%3D?line=10'>11</a>\u001b[0m \u001b[39mprint\u001b[39m(\u001b[39mf\u001b[39m\u001b[39m'\u001b[39m\u001b[39mThe Olympics have been played \u001b[39m\u001b[39m{\u001b[39;00msummer_amount\u001b[39m}\u001b[39;00m\u001b[39m of times during the summer, and \u001b[39m\u001b[39m{\u001b[39;00mwinter_amount\u001b[39m}\u001b[39;00m\u001b[39m during winter.\u001b[39m\u001b[39m'\u001b[39m)\n",
      "\u001b[1;31mNameError\u001b[0m: name 'summer_amount' is not defined"
     ]
    }
   ],
   "source": [
    "male_count = 0\n",
    "female_count = 0\n",
    "\n",
    "male_amount = data['Sex'].value_counts()['M']\n",
    "female_amount = len(data) - male_amount\n",
    "\n",
    "summers = data.groupby(['Year']).sum()\n",
    "print(summers)\n",
    "\n",
    "print(f'There have been {male_amount} male competitors and {female_amount} female competitors throughout the Olympics.')\n",
    "print(f'The Olympics have been played {summer_amount} of times during the summer, and {winter_amount} during winter.')\n"
   ]
  },
  {
   "cell_type": "code",
   "execution_count": 17,
   "metadata": {},
   "outputs": [
    {
     "name": "stdout",
     "output_type": "stream",
     "text": [
      "Mean height: 175.3\n",
      "Mean weight: 70.7\n",
      "Mean age: 25.6\n",
      "    Year      Height\n",
      "0   1896  172.739130\n",
      "1   1900  176.637931\n",
      "2   1904  175.788732\n",
      "3   1906  178.206226\n",
      "4   1908  177.543158\n",
      "5   1912  177.447989\n",
      "6   1920  175.752282\n",
      "7   1924  174.963039\n",
      "8   1928  175.162051\n",
      "9   1932  174.220115\n",
      "10  1936  175.723993\n",
      "11  1948  176.172797\n",
      "12  1952  174.138940\n",
      "13  1956  173.900968\n",
      "14  1960  173.141286\n",
      "15  1964  173.448574\n",
      "16  1968  173.945865\n",
      "17  1972  174.565363\n",
      "18  1976  174.920528\n",
      "19  1980  175.527488\n",
      "20  1984  175.540855\n",
      "21  1988  175.745252\n",
      "22  1992  176.174649\n",
      "23  1994  175.169862\n",
      "24  1996  175.895121\n",
      "25  1998  174.581369\n",
      "26  2000  176.089721\n",
      "27  2002  174.702451\n",
      "28  2004  175.972850\n",
      "29  2006  174.623172\n",
      "30  2008  176.211062\n",
      "31  2010  174.918182\n",
      "32  2012  176.262469\n",
      "33  2014  174.816670\n",
      "34  2016  176.034266\n"
     ]
    },
    {
     "ename": "ValueError",
     "evalue": "Mime type rendering requires nbformat>=4.2.0 but it is not installed",
     "output_type": "error",
     "traceback": [
      "\u001b[1;31m---------------------------------------------------------------------------\u001b[0m",
      "\u001b[1;31mValueError\u001b[0m                                Traceback (most recent call last)",
      "\u001b[1;32mc:\\OD\\OneDrive - onmidroc\\Documents\\Github\\project_data_behandling\\U0_CFI.ipynb Cell 3\u001b[0m in \u001b[0;36m<cell line: 17>\u001b[1;34m()\u001b[0m\n\u001b[0;32m     <a href='vscode-notebook-cell:/c%3A/OD/OneDrive%20-%20onmidroc/Documents/Github/project_data_behandling/U0_CFI.ipynb#W2sZmlsZQ%3D%3D?line=13'>14</a>\u001b[0m \u001b[39mprint\u001b[39m(average_height_yearly)\n\u001b[0;32m     <a href='vscode-notebook-cell:/c%3A/OD/OneDrive%20-%20onmidroc/Documents/Github/project_data_behandling/U0_CFI.ipynb#W2sZmlsZQ%3D%3D?line=15'>16</a>\u001b[0m average_height_fig \u001b[39m=\u001b[39m px\u001b[39m.\u001b[39mline(average_height_yearly, x\u001b[39m=\u001b[39m\u001b[39m'\u001b[39m\u001b[39mYear\u001b[39m\u001b[39m'\u001b[39m, y\u001b[39m=\u001b[39m\u001b[39m'\u001b[39m\u001b[39mHeight\u001b[39m\u001b[39m'\u001b[39m)\n\u001b[1;32m---> <a href='vscode-notebook-cell:/c%3A/OD/OneDrive%20-%20onmidroc/Documents/Github/project_data_behandling/U0_CFI.ipynb#W2sZmlsZQ%3D%3D?line=16'>17</a>\u001b[0m average_height_fig\u001b[39m.\u001b[39;49mshow()\n",
      "File \u001b[1;32mc:\\Users\\ricka\\AppData\\Local\\Programs\\Python\\Python39\\lib\\site-packages\\plotly\\basedatatypes.py:3398\u001b[0m, in \u001b[0;36mBaseFigure.show\u001b[1;34m(self, *args, **kwargs)\u001b[0m\n\u001b[0;32m   3365\u001b[0m \u001b[39m\"\"\"\u001b[39;00m\n\u001b[0;32m   3366\u001b[0m \u001b[39mShow a figure using either the default renderer(s) or the renderer(s)\u001b[39;00m\n\u001b[0;32m   3367\u001b[0m \u001b[39mspecified by the renderer argument\u001b[39;00m\n\u001b[1;32m   (...)\u001b[0m\n\u001b[0;32m   3394\u001b[0m \u001b[39mNone\u001b[39;00m\n\u001b[0;32m   3395\u001b[0m \u001b[39m\"\"\"\u001b[39;00m\n\u001b[0;32m   3396\u001b[0m \u001b[39mimport\u001b[39;00m \u001b[39mplotly\u001b[39;00m\u001b[39m.\u001b[39;00m\u001b[39mio\u001b[39;00m \u001b[39mas\u001b[39;00m \u001b[39mpio\u001b[39;00m\n\u001b[1;32m-> 3398\u001b[0m \u001b[39mreturn\u001b[39;00m pio\u001b[39m.\u001b[39mshow(\u001b[39mself\u001b[39m, \u001b[39m*\u001b[39margs, \u001b[39m*\u001b[39m\u001b[39m*\u001b[39mkwargs)\n",
      "File \u001b[1;32mc:\\Users\\ricka\\AppData\\Local\\Programs\\Python\\Python39\\lib\\site-packages\\plotly\\io\\_renderers.py:396\u001b[0m, in \u001b[0;36mshow\u001b[1;34m(fig, renderer, validate, **kwargs)\u001b[0m\n\u001b[0;32m    391\u001b[0m         \u001b[39mraise\u001b[39;00m \u001b[39mValueError\u001b[39;00m(\n\u001b[0;32m    392\u001b[0m             \u001b[39m\"\u001b[39m\u001b[39mMime type rendering requires ipython but it is not installed\u001b[39m\u001b[39m\"\u001b[39m\n\u001b[0;32m    393\u001b[0m         )\n\u001b[0;32m    395\u001b[0m     \u001b[39mif\u001b[39;00m \u001b[39mnot\u001b[39;00m nbformat \u001b[39mor\u001b[39;00m LooseVersion(nbformat\u001b[39m.\u001b[39m__version__) \u001b[39m<\u001b[39m LooseVersion(\u001b[39m\"\u001b[39m\u001b[39m4.2.0\u001b[39m\u001b[39m\"\u001b[39m):\n\u001b[1;32m--> 396\u001b[0m         \u001b[39mraise\u001b[39;00m \u001b[39mValueError\u001b[39;00m(\n\u001b[0;32m    397\u001b[0m             \u001b[39m\"\u001b[39m\u001b[39mMime type rendering requires nbformat>=4.2.0 but it is not installed\u001b[39m\u001b[39m\"\u001b[39m\n\u001b[0;32m    398\u001b[0m         )\n\u001b[0;32m    400\u001b[0m     ipython_display\u001b[39m.\u001b[39mdisplay(bundle, raw\u001b[39m=\u001b[39m\u001b[39mTrue\u001b[39;00m)\n\u001b[0;32m    402\u001b[0m \u001b[39m# external renderers\u001b[39;00m\n",
      "\u001b[1;31mValueError\u001b[0m: Mime type rendering requires nbformat>=4.2.0 but it is not installed"
     ]
    }
   ],
   "source": [
    "heights = data['Height'].dropna().sort_values(ascending=False) # Get the heights column and filter out any NaN values.\n",
    "print(f'Mean height: {float(heights.mean()):.4}')\n",
    "\n",
    "weights = data['Weight'].dropna().sort_values(ascending=False)\n",
    "print(f'Mean weight: {weights.mean():.4}')\n",
    "\n",
    "ages = data['Age'].dropna().sort_values(ascending=False)\n",
    "print(f'Mean age: {ages.mean():.3}')\n",
    "\n",
    "years = data['Year'].sort_values(ascending=False)\n",
    "\n",
    "average_height_yearly = data.groupby(['Year']).agg({'Height':'mean'})\n",
    "average_height_yearly = average_height_yearly.reset_index()\n",
    "print(average_height_yearly)\n",
    "\n",
    "average_height_fig = px.line(average_height_yearly, x='Year', y='Height')\n",
    "average_height_fig.show()"
   ]
  }
 ],
 "metadata": {
  "kernelspec": {
   "display_name": "Python 3.9.13 64-bit",
   "language": "python",
   "name": "python3"
  },
  "language_info": {
   "codemirror_mode": {
    "name": "ipython",
    "version": 3
   },
   "file_extension": ".py",
   "mimetype": "text/x-python",
   "name": "python",
   "nbconvert_exporter": "python",
   "pygments_lexer": "ipython3",
   "version": "3.9.13"
  },
  "orig_nbformat": 4,
  "vscode": {
   "interpreter": {
    "hash": "591918dbf680b2bdff6f4384b96f2237519b8ab6acfadf1c6cb7dfdafe56e2cb"
   }
  }
 },
 "nbformat": 4,
 "nbformat_minor": 2
}
