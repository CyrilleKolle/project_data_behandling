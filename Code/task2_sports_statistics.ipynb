{
 "cells": [
  {
   "cell_type": "markdown",
   "metadata": {},
   "source": [
    "# U2  - Sport Statistics"
   ]
  },
  {
   "cell_type": "markdown",
   "metadata": {},
   "source": [
    "Choose 2-4 sports and create suitable graphs/diagrams to visualize. For example:\n",
    "\n",
    "- Medal distribution between countries in the different sports\n",
    "- Age distribution between all the sports\n",
    "\n",
    "Create more plots to visualize the different aspects about about the sports"
   ]
  },
  {
   "cell_type": "markdown",
   "metadata": {},
   "source": [
    "### U2.1 Choosing Sports"
   ]
  },
  {
   "cell_type": "markdown",
   "metadata": {},
   "source": [
    "- Football\n",
    "- Swimming\n",
    "- Judo"
   ]
  },
  {
   "cell_type": "markdown",
   "metadata": {},
   "source": [
    "---"
   ]
  },
  {
   "cell_type": "markdown",
   "metadata": {},
   "source": [
    "## a) Medal Distrubution"
   ]
  },
  {
   "cell_type": "markdown",
   "metadata": {},
   "source": [
    "insert description"
   ]
  },
  {
   "cell_type": "code",
   "execution_count": 1,
   "metadata": {},
   "outputs": [],
   "source": [
    "import pandas as pd\n",
    "data = pd.read_csv(\"../Data/athlete_events.csv\")                # Using pandas to open the data\n",
    "data.head(5) \n",
    "data = data[data['Medal'].notna()]\n",
    "data =  data.drop_duplicates(subset=['NOC', 'Medal', 'Year', 'Games','Season', 'City', 'Event'], keep='first')\n"
   ]
  },
  {
   "cell_type": "code",
   "execution_count": 2,
   "metadata": {},
   "outputs": [
    {
     "data": {
      "text/html": [
       "<div>\n",
       "<style scoped>\n",
       "    .dataframe tbody tr th:only-of-type {\n",
       "        vertical-align: middle;\n",
       "    }\n",
       "\n",
       "    .dataframe tbody tr th {\n",
       "        vertical-align: top;\n",
       "    }\n",
       "\n",
       "    .dataframe thead th {\n",
       "        text-align: right;\n",
       "    }\n",
       "</style>\n",
       "<table border=\"1\" class=\"dataframe\">\n",
       "  <thead>\n",
       "    <tr style=\"text-align: right;\">\n",
       "      <th></th>\n",
       "      <th>ID</th>\n",
       "      <th>Name</th>\n",
       "      <th>Sex</th>\n",
       "      <th>Age</th>\n",
       "      <th>Height</th>\n",
       "      <th>Weight</th>\n",
       "      <th>Team</th>\n",
       "      <th>NOC</th>\n",
       "      <th>Games</th>\n",
       "      <th>Year</th>\n",
       "      <th>Season</th>\n",
       "      <th>City</th>\n",
       "      <th>Sport</th>\n",
       "      <th>Event</th>\n",
       "      <th>Medal</th>\n",
       "    </tr>\n",
       "  </thead>\n",
       "  <tbody>\n",
       "    <tr>\n",
       "      <th>3</th>\n",
       "      <td>4</td>\n",
       "      <td>Edgar Lindenau Aabye</td>\n",
       "      <td>M</td>\n",
       "      <td>34.0</td>\n",
       "      <td>NaN</td>\n",
       "      <td>NaN</td>\n",
       "      <td>Denmark/Sweden</td>\n",
       "      <td>DEN</td>\n",
       "      <td>1900 Summer</td>\n",
       "      <td>1900</td>\n",
       "      <td>Summer</td>\n",
       "      <td>Paris</td>\n",
       "      <td>Tug-Of-War</td>\n",
       "      <td>Tug-Of-War Men's Tug-Of-War</td>\n",
       "      <td>Gold</td>\n",
       "    </tr>\n",
       "    <tr>\n",
       "      <th>37</th>\n",
       "      <td>15</td>\n",
       "      <td>Arvo Ossian Aaltonen</td>\n",
       "      <td>M</td>\n",
       "      <td>30.0</td>\n",
       "      <td>NaN</td>\n",
       "      <td>NaN</td>\n",
       "      <td>Finland</td>\n",
       "      <td>FIN</td>\n",
       "      <td>1920 Summer</td>\n",
       "      <td>1920</td>\n",
       "      <td>Summer</td>\n",
       "      <td>Antwerpen</td>\n",
       "      <td>Swimming</td>\n",
       "      <td>Swimming Men's 200 metres Breaststroke</td>\n",
       "      <td>Bronze</td>\n",
       "    </tr>\n",
       "  </tbody>\n",
       "</table>\n",
       "</div>"
      ],
      "text/plain": [
       "    ID                  Name Sex   Age  Height  Weight            Team  NOC  \\\n",
       "3    4  Edgar Lindenau Aabye   M  34.0     NaN     NaN  Denmark/Sweden  DEN   \n",
       "37  15  Arvo Ossian Aaltonen   M  30.0     NaN     NaN         Finland  FIN   \n",
       "\n",
       "          Games  Year  Season       City       Sport  \\\n",
       "3   1900 Summer  1900  Summer      Paris  Tug-Of-War   \n",
       "37  1920 Summer  1920  Summer  Antwerpen    Swimming   \n",
       "\n",
       "                                     Event   Medal  \n",
       "3              Tug-Of-War Men's Tug-Of-War    Gold  \n",
       "37  Swimming Men's 200 metres Breaststroke  Bronze  "
      ]
     },
     "execution_count": 2,
     "metadata": {},
     "output_type": "execute_result"
    }
   ],
   "source": [
    "data.head(2)"
   ]
  },
  {
   "cell_type": "code",
   "execution_count": 3,
   "metadata": {},
   "outputs": [
    {
     "data": {
      "text/html": [
       "<div>\n",
       "<style scoped>\n",
       "    .dataframe tbody tr th:only-of-type {\n",
       "        vertical-align: middle;\n",
       "    }\n",
       "\n",
       "    .dataframe tbody tr th {\n",
       "        vertical-align: top;\n",
       "    }\n",
       "\n",
       "    .dataframe thead th {\n",
       "        text-align: right;\n",
       "    }\n",
       "</style>\n",
       "<table border=\"1\" class=\"dataframe\">\n",
       "  <thead>\n",
       "    <tr style=\"text-align: right;\">\n",
       "      <th></th>\n",
       "      <th>NOC</th>\n",
       "      <th>Medal</th>\n",
       "    </tr>\n",
       "  </thead>\n",
       "  <tbody>\n",
       "    <tr>\n",
       "      <th>0</th>\n",
       "      <td>AHO</td>\n",
       "      <td>1</td>\n",
       "    </tr>\n",
       "    <tr>\n",
       "      <th>1</th>\n",
       "      <td>ALG</td>\n",
       "      <td>4</td>\n",
       "    </tr>\n",
       "    <tr>\n",
       "      <th>2</th>\n",
       "      <td>ANZ</td>\n",
       "      <td>4</td>\n",
       "    </tr>\n",
       "    <tr>\n",
       "      <th>3</th>\n",
       "      <td>ARG</td>\n",
       "      <td>25</td>\n",
       "    </tr>\n",
       "    <tr>\n",
       "      <th>4</th>\n",
       "      <td>ARM</td>\n",
       "      <td>5</td>\n",
       "    </tr>\n",
       "  </tbody>\n",
       "</table>\n",
       "</div>"
      ],
      "text/plain": [
       "   NOC  Medal\n",
       "0  AHO      1\n",
       "1  ALG      4\n",
       "2  ANZ      4\n",
       "3  ARG     25\n",
       "4  ARM      5"
      ]
     },
     "execution_count": 3,
     "metadata": {},
     "output_type": "execute_result"
    }
   ],
   "source": [
    "gold_medal_distribution = data[data['Medal'] == 'Gold']\n",
    "gold_medal_distribution = gold_medal_distribution.groupby('NOC').agg({'Medal':'count'}).reset_index()\n",
    "silver_medal_distribution = data[data['Medal'] == 'Silver']\n",
    "silver_medal_distribution = silver_medal_distribution.groupby('NOC').agg({'Medal':'count'}).reset_index()\n",
    "bronze_medal_distribution = data[data['Medal'] == 'Silver']\n",
    "bronze_medal_distribution = bronze_medal_distribution.groupby('NOC').agg({'Medal':'count'}).reset_index()\n",
    "bronze_medal_distribution.head(5)"
   ]
  },
  {
   "cell_type": "code",
   "execution_count": 4,
   "metadata": {},
   "outputs": [],
   "source": [
    "combined_medals = pd.merge(gold_medal_distribution, silver_medal_distribution, on='NOC', how='outer').merge(bronze_medal_distribution, on='NOC', how='outer').fillna(0)\n",
    "combined_medals = combined_medals.rename(columns={'Medal_x':'Gold', 'Medal_y':'Silver', 'Medal':'Bronze'})"
   ]
  },
  {
   "cell_type": "code",
   "execution_count": 14,
   "metadata": {},
   "outputs": [
    {
     "data": {
      "application/vnd.plotly.v1+json": {
       "config": {
        "plotlyServerURL": "https://plot.ly"
       },
       "data": [
        {
         "customdata": [
          [
           "ALG"
          ],
          [
           "ANZ"
          ],
          [
           "ARG"
          ],
          [
           "ARM"
          ],
          [
           "AUS"
          ],
          [
           "AUT"
          ],
          [
           "AZE"
          ],
          [
           "BAH"
          ],
          [
           "BDI"
          ],
          [
           "BEL"
          ],
          [
           "BLR"
          ],
          [
           "BRA"
          ],
          [
           "BRN"
          ],
          [
           "BUL"
          ],
          [
           "CAN"
          ],
          [
           "CHI"
          ],
          [
           "CHN"
          ],
          [
           "CIV"
          ],
          [
           "CMR"
          ],
          [
           "COL"
          ],
          [
           "CRC"
          ],
          [
           "CRO"
          ],
          [
           "CUB"
          ],
          [
           "CZE"
          ],
          [
           "DEN"
          ],
          [
           "DOM"
          ],
          [
           "ECU"
          ],
          [
           "EGY"
          ],
          [
           "ESP"
          ],
          [
           "EST"
          ],
          [
           "ETH"
          ],
          [
           "EUN"
          ],
          [
           "FIJ"
          ],
          [
           "FIN"
          ],
          [
           "FRA"
          ],
          [
           "FRG"
          ],
          [
           "GBR"
          ],
          [
           "GDR"
          ],
          [
           "GEO"
          ],
          [
           "GER"
          ],
          [
           "GRE"
          ],
          [
           "GRN"
          ],
          [
           "HAI"
          ],
          [
           "HKG"
          ],
          [
           "HUN"
          ],
          [
           "INA"
          ],
          [
           "IND"
          ],
          [
           "IOA"
          ],
          [
           "IRI"
          ],
          [
           "IRL"
          ],
          [
           "ISR"
          ],
          [
           "ITA"
          ],
          [
           "JAM"
          ],
          [
           "JOR"
          ],
          [
           "JPN"
          ],
          [
           "KAZ"
          ],
          [
           "KEN"
          ],
          [
           "KOR"
          ],
          [
           "KOS"
          ],
          [
           "LAT"
          ],
          [
           "LIE"
          ],
          [
           "LTU"
          ],
          [
           "LUX"
          ],
          [
           "MAR"
          ],
          [
           "MEX"
          ],
          [
           "MGL"
          ],
          [
           "MOZ"
          ],
          [
           "NED"
          ],
          [
           "NEP"
          ],
          [
           "NGR"
          ],
          [
           "NOR"
          ],
          [
           "NZL"
          ],
          [
           "PAK"
          ],
          [
           "PAN"
          ],
          [
           "PER"
          ],
          [
           "POL"
          ],
          [
           "POR"
          ],
          [
           "PRK"
          ],
          [
           "PUR"
          ],
          [
           "ROU"
          ],
          [
           "RSA"
          ],
          [
           "RUS"
          ],
          [
           "SCG"
          ],
          [
           "SGP"
          ],
          [
           "SLO"
          ],
          [
           "SRB"
          ],
          [
           "SUI"
          ],
          [
           "SUR"
          ],
          [
           "SVK"
          ],
          [
           "SWE"
          ],
          [
           "SYR"
          ],
          [
           "TCH"
          ],
          [
           "THA"
          ],
          [
           "TJK"
          ],
          [
           "TPE"
          ],
          [
           "TTO"
          ],
          [
           "TUN"
          ],
          [
           "TUR"
          ],
          [
           "UAE"
          ],
          [
           "UGA"
          ],
          [
           "UKR"
          ],
          [
           "URS"
          ],
          [
           "URU"
          ],
          [
           "USA"
          ],
          [
           "UZB"
          ],
          [
           "VEN"
          ],
          [
           "VIE"
          ],
          [
           "YUG"
          ],
          [
           "ZIM"
          ],
          [
           "AHO"
          ],
          [
           "BOH"
          ],
          [
           "BOT"
          ],
          [
           "CYP"
          ],
          [
           "GAB"
          ],
          [
           "GHA"
          ],
          [
           "GUA"
          ],
          [
           "ISL"
          ],
          [
           "ISV"
          ],
          [
           "KGZ"
          ],
          [
           "KSA"
          ],
          [
           "LIB"
          ],
          [
           "MAS"
          ],
          [
           "MDA"
          ],
          [
           "MNE"
          ],
          [
           "NAM"
          ],
          [
           "NIG"
          ],
          [
           "PAR"
          ],
          [
           "PHI"
          ],
          [
           "QAT"
          ],
          [
           "SEN"
          ],
          [
           "SRI"
          ],
          [
           "SUD"
          ],
          [
           "TAN"
          ],
          [
           "TGA"
          ],
          [
           "UAR"
          ],
          [
           "ZAM"
          ]
         ],
         "hovertemplate": "Silver=%{x}<br>index=%{y}<br>Bronze=%{marker.size}<br>NOC=%{customdata[0]}<br>Gold=%{marker.color}<extra></extra>",
         "legendgroup": "",
         "marker": {
          "color": [
           5,
           3,
           21,
           2,
           153,
           85,
           7,
           6,
           1,
           45,
           19,
           30,
           1,
           52,
           126,
           2,
           239,
           1,
           3,
           5,
           1,
           15,
           77,
           22,
           49,
           3,
           1,
           7,
           45,
           13,
           22,
           54,
           1,
           146,
           264,
           67,
           289,
           192,
           8,
           319,
           42,
           1,
           1,
           1,
           178,
           7,
           10,
           1,
           18,
           9,
           1,
           256,
           22,
           1,
           152,
           20,
           31,
           116,
           1,
           3,
           2,
           6,
           4,
           6,
           13,
           2,
           1,
           125,
           1,
           3,
           167,
           47,
           3,
           1,
           1,
           75,
           4,
           16,
           1,
           88,
           25,
           202,
           2,
           1,
           7,
           3,
           108,
           1,
           11,
           200,
           1,
           51,
           9,
           1,
           3,
           3,
           3,
           40,
           1,
           2,
           37,
           471,
           2,
           1131,
           10,
           2,
           1,
           26,
           3,
           0,
           0,
           0,
           0,
           0,
           0,
           0,
           0,
           0,
           0,
           0,
           0,
           0,
           0,
           0,
           0,
           0,
           0,
           0,
           0,
           0,
           0,
           0,
           0,
           0,
           0,
           0
          ],
          "coloraxis": "coloraxis",
          "size": [
           4,
           4,
           25,
           5,
           170,
           118,
           12,
           2,
           1,
           60,
           32,
           36,
           1,
           88,
           160,
           7,
           184,
           1,
           1,
           9,
           1,
           16,
           67,
           26,
           82,
           2,
           1,
           8,
           63,
           11,
           9,
           44,
           0,
           148,
           286,
           82,
           320,
           165,
           6,
           345,
           57,
           1,
           1,
           1,
           156,
           12,
           7,
           1,
           21,
           11,
           1,
           225,
           32,
           0,
           151,
           25,
           38,
           102,
           0,
           15,
           2,
           6,
           4,
           5,
           24,
           10,
           0,
           133,
           0,
           8,
           159,
           28,
           3,
           0,
           3,
           94,
           8,
           16,
           2,
           95,
           33,
           183,
           4,
           2,
           12,
           6,
           122,
           0,
           13,
           215,
           1,
           58,
           8,
           1,
           7,
           5,
           3,
           27,
           0,
           3,
           33,
           373,
           2,
           901,
           7,
           3,
           3,
           32,
           4,
           1,
           1,
           1,
           1,
           1,
           1,
           1,
           2,
           1,
           1,
           1,
           2,
           7,
           2,
           1,
           4,
           1,
           1,
           3,
           1,
           1,
           2,
           1,
           2,
           1,
           1,
           1
          ],
          "sizemode": "area",
          "sizeref": 2.2525,
          "symbol": "circle"
         },
         "mode": "markers",
         "name": "",
         "orientation": "h",
         "showlegend": false,
         "type": "scatter",
         "x": [
          4,
          4,
          25,
          5,
          170,
          118,
          12,
          2,
          1,
          60,
          32,
          36,
          1,
          88,
          160,
          7,
          184,
          1,
          1,
          9,
          1,
          16,
          67,
          26,
          82,
          2,
          1,
          8,
          63,
          11,
          9,
          44,
          0,
          148,
          286,
          82,
          320,
          165,
          6,
          345,
          57,
          1,
          1,
          1,
          156,
          12,
          7,
          1,
          21,
          11,
          1,
          225,
          32,
          0,
          151,
          25,
          38,
          102,
          0,
          15,
          2,
          6,
          4,
          5,
          24,
          10,
          0,
          133,
          0,
          8,
          159,
          28,
          3,
          0,
          3,
          94,
          8,
          16,
          2,
          95,
          33,
          183,
          4,
          2,
          12,
          6,
          122,
          0,
          13,
          215,
          1,
          58,
          8,
          1,
          7,
          5,
          3,
          27,
          0,
          3,
          33,
          373,
          2,
          901,
          7,
          3,
          3,
          32,
          4,
          1,
          1,
          1,
          1,
          1,
          1,
          1,
          2,
          1,
          1,
          1,
          2,
          7,
          2,
          1,
          4,
          1,
          1,
          3,
          1,
          1,
          2,
          1,
          2,
          1,
          1,
          1
         ],
         "xaxis": "x",
         "y": [
          0,
          1,
          2,
          3,
          4,
          5,
          6,
          7,
          8,
          9,
          10,
          11,
          12,
          13,
          14,
          15,
          16,
          17,
          18,
          19,
          20,
          21,
          22,
          23,
          24,
          25,
          26,
          27,
          28,
          29,
          30,
          31,
          32,
          33,
          34,
          35,
          36,
          37,
          38,
          39,
          40,
          41,
          42,
          43,
          44,
          45,
          46,
          47,
          48,
          49,
          50,
          51,
          52,
          53,
          54,
          55,
          56,
          57,
          58,
          59,
          60,
          61,
          62,
          63,
          64,
          65,
          66,
          67,
          68,
          69,
          70,
          71,
          72,
          73,
          74,
          75,
          76,
          77,
          78,
          79,
          80,
          81,
          82,
          83,
          84,
          85,
          86,
          87,
          88,
          89,
          90,
          91,
          92,
          93,
          94,
          95,
          96,
          97,
          98,
          99,
          100,
          101,
          102,
          103,
          104,
          105,
          106,
          107,
          108,
          109,
          110,
          111,
          112,
          113,
          114,
          115,
          116,
          117,
          118,
          119,
          120,
          121,
          122,
          123,
          124,
          125,
          126,
          127,
          128,
          129,
          130,
          131,
          132,
          133,
          134,
          135
         ],
         "yaxis": "y"
        }
       ],
       "layout": {
        "coloraxis": {
         "colorbar": {
          "title": {
           "text": "Gold"
          }
         },
         "colorscale": [
          [
           0,
           "#0d0887"
          ],
          [
           0.1111111111111111,
           "#46039f"
          ],
          [
           0.2222222222222222,
           "#7201a8"
          ],
          [
           0.3333333333333333,
           "#9c179e"
          ],
          [
           0.4444444444444444,
           "#bd3786"
          ],
          [
           0.5555555555555556,
           "#d8576b"
          ],
          [
           0.6666666666666666,
           "#ed7953"
          ],
          [
           0.7777777777777778,
           "#fb9f3a"
          ],
          [
           0.8888888888888888,
           "#fdca26"
          ],
          [
           1,
           "#f0f921"
          ]
         ]
        },
        "legend": {
         "itemsizing": "constant",
         "tracegroupgap": 0
        },
        "margin": {
         "t": 60
        },
        "plot_bgcolor": "rgba(255,255,255,0.9)",
        "template": {
         "data": {
          "bar": [
           {
            "error_x": {
             "color": "#2a3f5f"
            },
            "error_y": {
             "color": "#2a3f5f"
            },
            "marker": {
             "line": {
              "color": "#E5ECF6",
              "width": 0.5
             },
             "pattern": {
              "fillmode": "overlay",
              "size": 10,
              "solidity": 0.2
             }
            },
            "type": "bar"
           }
          ],
          "barpolar": [
           {
            "marker": {
             "line": {
              "color": "#E5ECF6",
              "width": 0.5
             },
             "pattern": {
              "fillmode": "overlay",
              "size": 10,
              "solidity": 0.2
             }
            },
            "type": "barpolar"
           }
          ],
          "carpet": [
           {
            "aaxis": {
             "endlinecolor": "#2a3f5f",
             "gridcolor": "white",
             "linecolor": "white",
             "minorgridcolor": "white",
             "startlinecolor": "#2a3f5f"
            },
            "baxis": {
             "endlinecolor": "#2a3f5f",
             "gridcolor": "white",
             "linecolor": "white",
             "minorgridcolor": "white",
             "startlinecolor": "#2a3f5f"
            },
            "type": "carpet"
           }
          ],
          "choropleth": [
           {
            "colorbar": {
             "outlinewidth": 0,
             "ticks": ""
            },
            "type": "choropleth"
           }
          ],
          "contour": [
           {
            "colorbar": {
             "outlinewidth": 0,
             "ticks": ""
            },
            "colorscale": [
             [
              0,
              "#0d0887"
             ],
             [
              0.1111111111111111,
              "#46039f"
             ],
             [
              0.2222222222222222,
              "#7201a8"
             ],
             [
              0.3333333333333333,
              "#9c179e"
             ],
             [
              0.4444444444444444,
              "#bd3786"
             ],
             [
              0.5555555555555556,
              "#d8576b"
             ],
             [
              0.6666666666666666,
              "#ed7953"
             ],
             [
              0.7777777777777778,
              "#fb9f3a"
             ],
             [
              0.8888888888888888,
              "#fdca26"
             ],
             [
              1,
              "#f0f921"
             ]
            ],
            "type": "contour"
           }
          ],
          "contourcarpet": [
           {
            "colorbar": {
             "outlinewidth": 0,
             "ticks": ""
            },
            "type": "contourcarpet"
           }
          ],
          "heatmap": [
           {
            "colorbar": {
             "outlinewidth": 0,
             "ticks": ""
            },
            "colorscale": [
             [
              0,
              "#0d0887"
             ],
             [
              0.1111111111111111,
              "#46039f"
             ],
             [
              0.2222222222222222,
              "#7201a8"
             ],
             [
              0.3333333333333333,
              "#9c179e"
             ],
             [
              0.4444444444444444,
              "#bd3786"
             ],
             [
              0.5555555555555556,
              "#d8576b"
             ],
             [
              0.6666666666666666,
              "#ed7953"
             ],
             [
              0.7777777777777778,
              "#fb9f3a"
             ],
             [
              0.8888888888888888,
              "#fdca26"
             ],
             [
              1,
              "#f0f921"
             ]
            ],
            "type": "heatmap"
           }
          ],
          "heatmapgl": [
           {
            "colorbar": {
             "outlinewidth": 0,
             "ticks": ""
            },
            "colorscale": [
             [
              0,
              "#0d0887"
             ],
             [
              0.1111111111111111,
              "#46039f"
             ],
             [
              0.2222222222222222,
              "#7201a8"
             ],
             [
              0.3333333333333333,
              "#9c179e"
             ],
             [
              0.4444444444444444,
              "#bd3786"
             ],
             [
              0.5555555555555556,
              "#d8576b"
             ],
             [
              0.6666666666666666,
              "#ed7953"
             ],
             [
              0.7777777777777778,
              "#fb9f3a"
             ],
             [
              0.8888888888888888,
              "#fdca26"
             ],
             [
              1,
              "#f0f921"
             ]
            ],
            "type": "heatmapgl"
           }
          ],
          "histogram": [
           {
            "marker": {
             "pattern": {
              "fillmode": "overlay",
              "size": 10,
              "solidity": 0.2
             }
            },
            "type": "histogram"
           }
          ],
          "histogram2d": [
           {
            "colorbar": {
             "outlinewidth": 0,
             "ticks": ""
            },
            "colorscale": [
             [
              0,
              "#0d0887"
             ],
             [
              0.1111111111111111,
              "#46039f"
             ],
             [
              0.2222222222222222,
              "#7201a8"
             ],
             [
              0.3333333333333333,
              "#9c179e"
             ],
             [
              0.4444444444444444,
              "#bd3786"
             ],
             [
              0.5555555555555556,
              "#d8576b"
             ],
             [
              0.6666666666666666,
              "#ed7953"
             ],
             [
              0.7777777777777778,
              "#fb9f3a"
             ],
             [
              0.8888888888888888,
              "#fdca26"
             ],
             [
              1,
              "#f0f921"
             ]
            ],
            "type": "histogram2d"
           }
          ],
          "histogram2dcontour": [
           {
            "colorbar": {
             "outlinewidth": 0,
             "ticks": ""
            },
            "colorscale": [
             [
              0,
              "#0d0887"
             ],
             [
              0.1111111111111111,
              "#46039f"
             ],
             [
              0.2222222222222222,
              "#7201a8"
             ],
             [
              0.3333333333333333,
              "#9c179e"
             ],
             [
              0.4444444444444444,
              "#bd3786"
             ],
             [
              0.5555555555555556,
              "#d8576b"
             ],
             [
              0.6666666666666666,
              "#ed7953"
             ],
             [
              0.7777777777777778,
              "#fb9f3a"
             ],
             [
              0.8888888888888888,
              "#fdca26"
             ],
             [
              1,
              "#f0f921"
             ]
            ],
            "type": "histogram2dcontour"
           }
          ],
          "mesh3d": [
           {
            "colorbar": {
             "outlinewidth": 0,
             "ticks": ""
            },
            "type": "mesh3d"
           }
          ],
          "parcoords": [
           {
            "line": {
             "colorbar": {
              "outlinewidth": 0,
              "ticks": ""
             }
            },
            "type": "parcoords"
           }
          ],
          "pie": [
           {
            "automargin": true,
            "type": "pie"
           }
          ],
          "scatter": [
           {
            "fillpattern": {
             "fillmode": "overlay",
             "size": 10,
             "solidity": 0.2
            },
            "type": "scatter"
           }
          ],
          "scatter3d": [
           {
            "line": {
             "colorbar": {
              "outlinewidth": 0,
              "ticks": ""
             }
            },
            "marker": {
             "colorbar": {
              "outlinewidth": 0,
              "ticks": ""
             }
            },
            "type": "scatter3d"
           }
          ],
          "scattercarpet": [
           {
            "marker": {
             "colorbar": {
              "outlinewidth": 0,
              "ticks": ""
             }
            },
            "type": "scattercarpet"
           }
          ],
          "scattergeo": [
           {
            "marker": {
             "colorbar": {
              "outlinewidth": 0,
              "ticks": ""
             }
            },
            "type": "scattergeo"
           }
          ],
          "scattergl": [
           {
            "marker": {
             "colorbar": {
              "outlinewidth": 0,
              "ticks": ""
             }
            },
            "type": "scattergl"
           }
          ],
          "scattermapbox": [
           {
            "marker": {
             "colorbar": {
              "outlinewidth": 0,
              "ticks": ""
             }
            },
            "type": "scattermapbox"
           }
          ],
          "scatterpolar": [
           {
            "marker": {
             "colorbar": {
              "outlinewidth": 0,
              "ticks": ""
             }
            },
            "type": "scatterpolar"
           }
          ],
          "scatterpolargl": [
           {
            "marker": {
             "colorbar": {
              "outlinewidth": 0,
              "ticks": ""
             }
            },
            "type": "scatterpolargl"
           }
          ],
          "scatterternary": [
           {
            "marker": {
             "colorbar": {
              "outlinewidth": 0,
              "ticks": ""
             }
            },
            "type": "scatterternary"
           }
          ],
          "surface": [
           {
            "colorbar": {
             "outlinewidth": 0,
             "ticks": ""
            },
            "colorscale": [
             [
              0,
              "#0d0887"
             ],
             [
              0.1111111111111111,
              "#46039f"
             ],
             [
              0.2222222222222222,
              "#7201a8"
             ],
             [
              0.3333333333333333,
              "#9c179e"
             ],
             [
              0.4444444444444444,
              "#bd3786"
             ],
             [
              0.5555555555555556,
              "#d8576b"
             ],
             [
              0.6666666666666666,
              "#ed7953"
             ],
             [
              0.7777777777777778,
              "#fb9f3a"
             ],
             [
              0.8888888888888888,
              "#fdca26"
             ],
             [
              1,
              "#f0f921"
             ]
            ],
            "type": "surface"
           }
          ],
          "table": [
           {
            "cells": {
             "fill": {
              "color": "#EBF0F8"
             },
             "line": {
              "color": "white"
             }
            },
            "header": {
             "fill": {
              "color": "#C8D4E3"
             },
             "line": {
              "color": "white"
             }
            },
            "type": "table"
           }
          ]
         },
         "layout": {
          "annotationdefaults": {
           "arrowcolor": "#2a3f5f",
           "arrowhead": 0,
           "arrowwidth": 1
          },
          "autotypenumbers": "strict",
          "coloraxis": {
           "colorbar": {
            "outlinewidth": 0,
            "ticks": ""
           }
          },
          "colorscale": {
           "diverging": [
            [
             0,
             "#8e0152"
            ],
            [
             0.1,
             "#c51b7d"
            ],
            [
             0.2,
             "#de77ae"
            ],
            [
             0.3,
             "#f1b6da"
            ],
            [
             0.4,
             "#fde0ef"
            ],
            [
             0.5,
             "#f7f7f7"
            ],
            [
             0.6,
             "#e6f5d0"
            ],
            [
             0.7,
             "#b8e186"
            ],
            [
             0.8,
             "#7fbc41"
            ],
            [
             0.9,
             "#4d9221"
            ],
            [
             1,
             "#276419"
            ]
           ],
           "sequential": [
            [
             0,
             "#0d0887"
            ],
            [
             0.1111111111111111,
             "#46039f"
            ],
            [
             0.2222222222222222,
             "#7201a8"
            ],
            [
             0.3333333333333333,
             "#9c179e"
            ],
            [
             0.4444444444444444,
             "#bd3786"
            ],
            [
             0.5555555555555556,
             "#d8576b"
            ],
            [
             0.6666666666666666,
             "#ed7953"
            ],
            [
             0.7777777777777778,
             "#fb9f3a"
            ],
            [
             0.8888888888888888,
             "#fdca26"
            ],
            [
             1,
             "#f0f921"
            ]
           ],
           "sequentialminus": [
            [
             0,
             "#0d0887"
            ],
            [
             0.1111111111111111,
             "#46039f"
            ],
            [
             0.2222222222222222,
             "#7201a8"
            ],
            [
             0.3333333333333333,
             "#9c179e"
            ],
            [
             0.4444444444444444,
             "#bd3786"
            ],
            [
             0.5555555555555556,
             "#d8576b"
            ],
            [
             0.6666666666666666,
             "#ed7953"
            ],
            [
             0.7777777777777778,
             "#fb9f3a"
            ],
            [
             0.8888888888888888,
             "#fdca26"
            ],
            [
             1,
             "#f0f921"
            ]
           ]
          },
          "colorway": [
           "#636efa",
           "#EF553B",
           "#00cc96",
           "#ab63fa",
           "#FFA15A",
           "#19d3f3",
           "#FF6692",
           "#B6E880",
           "#FF97FF",
           "#FECB52"
          ],
          "font": {
           "color": "#2a3f5f"
          },
          "geo": {
           "bgcolor": "white",
           "lakecolor": "white",
           "landcolor": "#E5ECF6",
           "showlakes": true,
           "showland": true,
           "subunitcolor": "white"
          },
          "hoverlabel": {
           "align": "left"
          },
          "hovermode": "closest",
          "mapbox": {
           "style": "light"
          },
          "paper_bgcolor": "white",
          "plot_bgcolor": "#E5ECF6",
          "polar": {
           "angularaxis": {
            "gridcolor": "white",
            "linecolor": "white",
            "ticks": ""
           },
           "bgcolor": "#E5ECF6",
           "radialaxis": {
            "gridcolor": "white",
            "linecolor": "white",
            "ticks": ""
           }
          },
          "scene": {
           "xaxis": {
            "backgroundcolor": "#E5ECF6",
            "gridcolor": "white",
            "gridwidth": 2,
            "linecolor": "white",
            "showbackground": true,
            "ticks": "",
            "zerolinecolor": "white"
           },
           "yaxis": {
            "backgroundcolor": "#E5ECF6",
            "gridcolor": "white",
            "gridwidth": 2,
            "linecolor": "white",
            "showbackground": true,
            "ticks": "",
            "zerolinecolor": "white"
           },
           "zaxis": {
            "backgroundcolor": "#E5ECF6",
            "gridcolor": "white",
            "gridwidth": 2,
            "linecolor": "white",
            "showbackground": true,
            "ticks": "",
            "zerolinecolor": "white"
           }
          },
          "shapedefaults": {
           "line": {
            "color": "#2a3f5f"
           }
          },
          "ternary": {
           "aaxis": {
            "gridcolor": "white",
            "linecolor": "white",
            "ticks": ""
           },
           "baxis": {
            "gridcolor": "white",
            "linecolor": "white",
            "ticks": ""
           },
           "bgcolor": "#E5ECF6",
           "caxis": {
            "gridcolor": "white",
            "linecolor": "white",
            "ticks": ""
           }
          },
          "title": {
           "x": 0.05
          },
          "xaxis": {
           "automargin": true,
           "gridcolor": "white",
           "linecolor": "white",
           "ticks": "",
           "title": {
            "standoff": 15
           },
           "zerolinecolor": "white",
           "zerolinewidth": 2
          },
          "yaxis": {
           "automargin": true,
           "gridcolor": "white",
           "linecolor": "white",
           "ticks": "",
           "title": {
            "standoff": 15
           },
           "zerolinecolor": "white",
           "zerolinewidth": 2
          }
         }
        },
        "xaxis": {
         "anchor": "y",
         "domain": [
          0,
          1
         ],
         "linecolor": "#000",
         "showgrid": false,
         "showline": true,
         "title": {
          "text": "Silver"
         },
         "type": "log"
        },
        "yaxis": {
         "anchor": "x",
         "domain": [
          0,
          1
         ],
         "linecolor": "#000",
         "showgrid": false,
         "showline": true,
         "title": {
          "text": "index"
         },
         "type": "log"
        }
       }
      }
     },
     "metadata": {},
     "output_type": "display_data"
    }
   ],
   "source": [
    "import plotly.express as px\n",
    "\n",
    "fig = px.scatter(combined_medals, x=\"Silver\", color=\"Gold\", size='Bronze', hover_data=['NOC']                 )\n",
    "fig.update_layout( plot_bgcolor=\"rgba(255,255,255,0.9)\")\n",
    "fig.update_xaxes(type='log',showgrid=False,showline=True, linecolor=\"#000\")\n",
    "fig.update_yaxes(type='log',showgrid=False, showline=True,linecolor=\"#000\")\n",
    "fig.show()\n"
   ]
  },
  {
   "cell_type": "markdown",
   "metadata": {},
   "source": [
    "---"
   ]
  },
  {
   "cell_type": "markdown",
   "metadata": {},
   "source": [
    "## b) Age distrubution"
   ]
  },
  {
   "cell_type": "markdown",
   "metadata": {},
   "source": [
    "insert description"
   ]
  },
  {
   "cell_type": "code",
   "execution_count": null,
   "metadata": {},
   "outputs": [],
   "source": []
  },
  {
   "cell_type": "markdown",
   "metadata": {},
   "source": [
    "---"
   ]
  },
  {
   "cell_type": "markdown",
   "metadata": {},
   "source": [
    "## c) Country Comparison"
   ]
  },
  {
   "cell_type": "markdown",
   "metadata": {},
   "source": [
    "Sweden VS France peformance"
   ]
  },
  {
   "cell_type": "code",
   "execution_count": null,
   "metadata": {},
   "outputs": [],
   "source": []
  },
  {
   "cell_type": "markdown",
   "metadata": {},
   "source": [
    "---"
   ]
  }
 ],
 "metadata": {
  "kernelspec": {
   "display_name": "Python 3.9.13 ('data-behandlin-cyrille-kolle-IH-hno8Y')",
   "language": "python",
   "name": "python3"
  },
  "language_info": {
   "codemirror_mode": {
    "name": "ipython",
    "version": 3
   },
   "file_extension": ".py",
   "mimetype": "text/x-python",
   "name": "python",
   "nbconvert_exporter": "python",
   "pygments_lexer": "ipython3",
   "version": "3.9.13"
  },
  "orig_nbformat": 4,
  "vscode": {
   "interpreter": {
    "hash": "687cb790cab5c1df02f1d8017d39b24847b850bfcb98624e1903a6099427824d"
   }
  }
 },
 "nbformat": 4,
 "nbformat_minor": 2
}
